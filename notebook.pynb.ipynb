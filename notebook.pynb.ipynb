{
 "cells": [
  {
   "cell_type": "code",
   "execution_count": 4,
   "metadata": {},
   "outputs": [],
   "source": [
    "[Document(\n",
    "    page_content='says. “But I’ve also seen him flip a switch and suddenly be this incredibly effective,\\ncharismatic, high-emotional-intelligence business person, when he has to do it.”\\nAt the Panasonic dinner, the charming Musk appeared. He sketched out his\\nvision for moving the world to electric vehicles and why the two companies\\nshould do it together. “I was mildly shocked and impressed, because, whoa, this is\\nnot like how Elon usually was on other days,” says Straubel. “He’s a person who’s',\n",
    "    metadata={'page': 225, 'source': 'data\\\\Isaacson, Walter - Elon Musk (2023).pdf'}), \n",
    " Document(page_content='Das, “Inside Elon Musk’s Big Plans for Twitter,” \\nNew York Times\\n, May 6, 2022.\\n74. Hot and Cold:\\n Author’s interviews with Elon Musk, Larry Ellison, Kimbal Musk, Robert Steel, Leslie\\nBerland, Jared Birchall. Liz Hoffman, “Sam Bankman-Fried, Elon Musk, and a Secret Text,” \\nSemafor\\n, Nov.\\n23, 2022; Twitter town hall, June 16, 2022.\\n75. Father’s Day:\\n Author’s interviews with Elon Musk, Maye Musk, Justine Musk, Kimbal Musk, Errol', \n",
    "          metadata={'page': 634, 'source': 'data\\\\Isaacson, Walter - Elon Musk (2023).pdf'}), \n",
    " Document(page_content='Inc\\n., Dec. 1, 2007; Elon\\nMusk, Stanford talk, Oct. 8 2003; Heidi Anderson, “Newspaperdom’s New Superhero: Zip2,” \\nEditor &\\nPublisher\\n, Jan. 1996; Michael Gross, “Elon Musk 1.0,” \\nAir Mail\\n, June 11, 2022; Maye Musk, \\nA Woman\\n;\\nVance, \\nElon Musk\\n; Soni, \\nThe Founders\\n.\\n11. Justine:\\n Author’s interviews with Justine Musk, Elon Musk, Maye Musk, Kimbal Musk, Navaid Farooq.\\nJustine Musk, “I Was a Starter Wife,” \\nMarie Claire\\n, Sept. 10, 2010.\\n12. X.com:', \n",
    "          metadata={'page': 627, 'source': 'data\\\\Isaacson, Walter - Elon Musk (2023).pdf'}), \n",
    " Document(page_content='Space Barons\\n; Berger, \\nLiftoff\\n.\\n15. Rocket Man:\\n Author’s interviews with Elon Musk, Adeo Ressi. Amit Katwala, “What’s Driving Elon\\nMusk?,” \\nWired\\n, Sept. 8, 2018; Anderson, “Elon Musk’s Mission to Mars”; Levine, “Entrepreneur Elon Musk\\nTalks about His Background in Physics”; Junod, “Triumph of His Will.”', \n",
    "          metadata={'page': 627, 'source': 'data\\\\Isaacson, Walter - Elon Musk (2023).pdf'})]"
   ]
  },
  {
   "cell_type": "code",
   "execution_count": null,
   "metadata": {},
   "outputs": [],
   "source": [
    "shmoono:  {'query': 'who is the author of elon musk?', \n",
    "           'result': \"It is Elon Twitter has been seen him flip a person.\\nI don' I have you don'\\nElon, 759843\", 'source_documents': \n",
    "    [Document(\n",
    "        page_content='says. “But I’ve also seen him flip a switch and suddenly be this incredibly effective,\\ncharismatic, high-emotional-intelligence business person, when he has to do it.”\\nAt the Panasonic dinner, the charming Musk appeared. He sketched out his\\nvision for moving the world to electric vehicles and why the two companies\\nshould do it together. “I was mildly shocked and impressed, because, whoa, this is\\nnot like how Elon usually was on other days,” says Straubel. “He’s a person who’s', \n",
    "         metadata={'page': 225, 'source': 'data\\\\Isaacson, Walter - Elon Musk (2023).pdf'}), \n",
    "     Document(page_content='Das, “Inside Elon Musk’s Big Plans for Twitter,” \\nNew York Times\\n, May 6, 2022.\\n74. Hot and Cold:\\n Author’s interviews with Elon Musk, Larry Ellison, Kimbal Musk, Robert Steel, Leslie\\nBerland, Jared Birchall. Liz Hoffman, “Sam Bankman-Fried, Elon Musk, and a Secret Text,” \\nSemafor\\n, Nov.\\n23, 2022; Twitter town hall, June 16, 2022.\\n75. Father’s Day:\\n Author’s interviews with Elon Musk, Maye Musk, Justine Musk, Kimbal Musk, Errol', \n",
    "     metadata={'page': 634, 'source': 'data\\\\Isaacson, Walter - Elon Musk (2023).pdf'}), \n",
    "     Document(page_content='Inc\\n., Dec. 1, 2007; Elon\\nMusk, Stanford talk, Oct. 8 2003; Heidi Anderson, “Newspaperdom’s New Superhero: Zip2,” \\nEditor &\\nPublisher\\n, Jan. 1996; Michael Gross, “Elon Musk 1.0,” \\nAir Mail\\n, June 11, 2022; Maye Musk, \\nA Woman\\n;\\nVance, \\nElon Musk\\n; Soni, \\nThe Founders\\n.\\n11. Justine:\\n Author’s interviews with Justine Musk, Elon Musk, Maye Musk, Kimbal Musk, Navaid Farooq.\\nJustine Musk, “I Was a Starter Wife,” \\nMarie Claire\\n, Sept. 10, 2010.\\n12. X.com:', \n",
    "                                                                                                                                                                                                                                                                                                                                                                                                                                                                                                                                                                                                                                                                                                                                                                                                                                                                                                                                                                                                                                                                                                                                                                                                                                                                                                                                                                                      metadata={'page': 627, 'source': 'data\\\\Isaacson, Walter - Elon Musk (2023).pdf'})]}"
   ]
  }
 ],
 "metadata": {
  "kernelspec": {
   "display_name": ".venv",
   "language": "python",
   "name": "python3"
  },
  "language_info": {
   "codemirror_mode": {
    "name": "ipython",
    "version": 3
   },
   "file_extension": ".py",
   "mimetype": "text/x-python",
   "name": "python",
   "nbconvert_exporter": "python",
   "pygments_lexer": "ipython3",
   "version": "3.10.9"
  }
 },
 "nbformat": 4,
 "nbformat_minor": 2
}
